{
 "cells": [
  {
   "cell_type": "code",
   "execution_count": 1,
   "metadata": {},
   "outputs": [],
   "source": [
    "import torch \n",
    "from torch import nn\n",
    "import numpy as np \n",
    "from tqdm import tqdm\n",
    "import pandas as pd \n",
    "import matplotlib.pyplot as plt \n",
    "import seaborn as sns \n",
    "from torch.nn import functional as F"
   ]
  },
  {
   "cell_type": "code",
   "execution_count": 2,
   "metadata": {},
   "outputs": [],
   "source": [
    "def constrained_search(\n",
    "    n_subjects: int = 1024, \n",
    "    p_predicates: int = 1024,\n",
    "    m_objects_per_predicate: int = 32,\n",
    "    d_model: int = 16, \n",
    "):\n",
    "    objects = []\n",
    "    predicates = []\n",
    "    for _ in range(p_predicates):\n",
    "        mapping = torch.arange(0, m_objects_per_predicate).repeat(n_subjects // m_objects_per_predicate)\n",
    "        mapping = mapping[torch.randperm(n_subjects)]\n",
    "        embs = nn.init.normal_(torch.zeros(m_objects_per_predicate, d_model // 2))\n",
    "        predicates.append(mapping)\n",
    "        objects.append(embs[mapping])\n",
    "    \n",
    "    # y = nn.init.normal_(torch.zeros(n_subjects, d_model)).to(device)\n",
    "    xs, ys = [], []\n",
    "    for i in range(p_predicates):\n",
    "        for j in range(i + 1, p_predicates):\n",
    "            for k in range(m_objects_per_predicate):\n",
    "                for l in range(m_objects_per_predicate):\n",
    "                    xs.append(torch.concat([objects[i][k], objects[j][l]], dim=-1))\n",
    "                    ys.append(int(((predicates[i] == k) & (predicates[j] == l)).any()))\n",
    "    x = torch.stack(xs, dim=0)\n",
    "    y = torch.tensor(ys)\n",
    "\n",
    "    return x, y\n",
    "x, y = constrained_search(\n",
    "    n_subjects=32,\n",
    "    p_predicates=32,\n",
    "    m_objects_per_predicate=8,\n",
    "    d_model=12,\n",
    ")"
   ]
  },
  {
   "cell_type": "code",
   "execution_count": 3,
   "metadata": {},
   "outputs": [
    {
     "data": {
      "text/plain": [
       "tensor([[ 0.7070,  1.4108, -0.3484,  ...,  2.1461, -2.1936, -0.1641],\n",
       "        [ 0.7070,  1.4108, -0.3484,  ..., -0.8891, -0.0532,  0.9548],\n",
       "        [ 0.7070,  1.4108, -0.3484,  ..., -0.1183, -0.0856,  0.0340],\n",
       "        ...,\n",
       "        [-0.1364, -1.5150, -1.3489,  ...,  1.0739,  0.7339, -2.0477],\n",
       "        [-0.1364, -1.5150, -1.3489,  ...,  0.7796, -0.2232, -1.7187],\n",
       "        [-0.1364, -1.5150, -1.3489,  ..., -0.0434,  2.0079,  2.5560]])"
      ]
     },
     "execution_count": 3,
     "metadata": {},
     "output_type": "execute_result"
    }
   ],
   "source": [
    "x"
   ]
  },
  {
   "cell_type": "code",
   "execution_count": null,
   "metadata": {},
   "outputs": [],
   "source": []
  }
 ],
 "metadata": {
  "kernelspec": {
   "display_name": "Python 3",
   "language": "python",
   "name": "python3"
  },
  "language_info": {
   "codemirror_mode": {
    "name": "ipython",
    "version": 3
   },
   "file_extension": ".py",
   "mimetype": "text/x-python",
   "name": "python",
   "nbconvert_exporter": "python",
   "pygments_lexer": "ipython3",
   "version": "3.10.13"
  },
  "orig_nbformat": 4
 },
 "nbformat": 4,
 "nbformat_minor": 2
}
