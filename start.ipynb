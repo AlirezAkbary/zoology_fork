{
 "cells": [
  {
   "cell_type": "code",
   "execution_count": 9,
   "metadata": {},
   "outputs": [],
   "source": [
    "from zoology.model import LanguageModel\n",
    "from zoology.experiments.d_model import configs\n",
    "\n",
    "import torch\n",
    "from torch.profiler import profile, record_function, ProfilerActivity"
   ]
  },
  {
   "cell_type": "code",
   "execution_count": 10,
   "metadata": {},
   "outputs": [],
   "source": [
    "model = LanguageModel(configs[0].model)"
   ]
  },
  {
   "cell_type": "code",
   "execution_count": 13,
   "metadata": {},
   "outputs": [],
   "source": [
    "model.to(7)\n",
    "inputs = torch.randint(8_192, size=(64, 128)).to(7)"
   ]
  },
  {
   "cell_type": "code",
   "execution_count": 20,
   "metadata": {},
   "outputs": [
    {
     "name": "stderr",
     "output_type": "stream",
     "text": [
      "STAGE:2023-10-27 20:36:36 4157758:4157758 ActivityProfilerController.cpp:312] Completed Stage: Warm Up\n",
      "STAGE:2023-10-27 20:36:36 4157758:4157758 ActivityProfilerController.cpp:318] Completed Stage: Collection\n",
      "STAGE:2023-10-27 20:36:36 4157758:4157758 ActivityProfilerController.cpp:322] Completed Stage: Post Processing\n"
     ]
    }
   ],
   "source": [
    "with profile(activities=[ProfilerActivity.CPU], record_shapes=True) as prof:\n",
    "    with record_function(\"model_inference\"):\n",
    "        model(inputs)\n",
    "prof.export_chrome_trace(\"trace.json\")"
   ]
  },
  {
   "cell_type": "code",
   "execution_count": 19,
   "metadata": {},
   "outputs": [
    {
     "name": "stdout",
     "output_type": "stream",
     "text": [
      "-------------------------------------------------  ------------  ------------  ------------  ------------  ------------  ------------  \n",
      "                                             Name    Self CPU %      Self CPU   CPU total %     CPU total  CPU time avg    # of Calls  \n",
      "-------------------------------------------------  ------------  ------------  ------------  ------------  ------------  ------------  \n",
      "                                  model_inference        29.30%       9.368ms       100.00%      31.972ms      31.972ms             1  \n",
      "                                  aten::embedding        12.41%       3.968ms        26.65%       8.519ms       8.519ms             1  \n",
      "                               aten::index_select        13.90%       4.445ms        14.17%       4.531ms       4.531ms             1  \n",
      "                                   aten::fft_rfft         5.10%       1.629ms         9.82%       3.140ms     196.250us            16  \n",
      "                                    aten::dropout         0.05%      15.000us         8.04%       2.571ms     285.667us             9  \n",
      "                             aten::native_dropout         7.82%       2.499ms         7.99%       2.556ms       2.556ms             1  \n",
      "                                     aten::linear         0.88%     280.000us         7.32%       2.340ms      57.073us            41  \n",
      "                                  aten::transpose         4.82%       1.541ms         4.91%       1.569ms      24.138us            65  \n",
      "                                      aten::addmm         3.22%       1.029ms         3.87%       1.238ms      38.688us            32  \n",
      "                                 cudaLaunchKernel         3.66%       1.170ms         3.66%       1.170ms       4.958us           236  \n",
      "                                        aten::mul         2.81%     900.000us         3.58%       1.146ms      20.464us            56  \n",
      "                            aten::constant_pad_nd         0.58%     185.000us         2.55%     815.000us      50.938us            16  \n",
      "                                   aten::_fft_r2c         1.32%     421.000us         2.50%     798.000us      49.875us            16  \n",
      "                                 aten::layer_norm         0.08%      25.000us         2.28%     728.000us      80.889us             9  \n",
      "                          aten::native_layer_norm         0.85%     271.000us         2.20%     703.000us      78.111us             9  \n",
      "                                      aten::empty         2.12%     678.000us         2.12%     678.000us       5.845us           116  \n",
      "                                  aten::fft_irfft         0.12%      37.000us         2.12%     677.000us      84.625us             8  \n",
      "                                        aten::add         1.55%     497.000us         2.00%     640.000us      20.000us            32  \n",
      "                                   aten::_fft_c2r         0.65%     208.000us         2.00%     640.000us      80.000us             8  \n",
      "                                      aten::copy_         0.86%     276.000us         1.65%     529.000us      16.531us            32  \n",
      "                                      aten::clone         0.19%      62.000us         1.55%     496.000us      31.000us            16  \n",
      "                                        aten::abs         0.45%     143.000us         1.33%     424.000us      26.500us            16  \n",
      "                                        aten::sin         0.93%     297.000us         1.21%     388.000us      16.167us            24  \n",
      "                                     aten::matmul         0.21%      67.000us         1.17%     375.000us      41.667us             9  \n",
      "                                          aten::t         0.49%     158.000us         0.84%     270.000us       6.585us            41  \n",
      "                                         aten::mm         0.67%     214.000us         0.80%     256.000us      28.444us             9  \n",
      "                                      aten::slice         0.71%     226.000us         0.76%     244.000us       3.389us            72  \n",
      "                                 aten::contiguous         0.03%      11.000us         0.74%     236.000us      29.500us             8  \n",
      "                                    aten::reshape         0.32%     103.000us         0.62%     198.000us       3.000us            66  \n",
      "                                      aten::fill_         0.35%     111.000us         0.58%     185.000us      11.562us            16  \n",
      "                                        aten::div         0.43%     137.000us         0.55%     175.000us      21.875us             8  \n",
      "                                       aten::view         0.54%     172.000us         0.54%     172.000us       1.470us           117  \n",
      "                                        aten::neg         0.37%     118.000us         0.49%     158.000us      19.750us             8  \n",
      "                                 aten::empty_like         0.15%      48.000us         0.49%     157.000us       8.722us            18  \n",
      "                                  cudaMemcpyAsync         0.46%     147.000us         0.46%     147.000us      18.375us             8  \n",
      "                                        aten::exp         0.30%      95.000us         0.40%     129.000us      16.125us             8  \n",
      "                                   cuLaunchKernel         0.31%      98.000us         0.31%      98.000us       4.083us            24  \n",
      "                                     aten::narrow         0.13%      40.000us         0.30%      97.000us       6.062us            16  \n",
      "                                    aten::resize_         0.28%      91.000us         0.28%      91.000us       2.758us            33  \n",
      "                                    aten::permute         0.17%      53.000us         0.17%      55.000us       2.292us            24  \n",
      "                                 aten::as_strided         0.15%      49.000us         0.15%      49.000us       0.304us           161  \n",
      "                                aten::as_strided_         0.11%      34.000us         0.11%      34.000us       1.417us            24  \n",
      "                               aten::_unsafe_view         0.08%      27.000us         0.08%      27.000us       3.000us             9  \n",
      "                              aten::empty_strided         0.07%      21.000us         0.07%      21.000us      10.500us             2  \n",
      "                            cudaStreamIsCapturing         0.01%       3.000us         0.01%       3.000us       3.000us             1  \n",
      "    cudaOccupancyMaxActiveBlocksPerMultiprocessor         0.01%       3.000us         0.01%       3.000us       3.000us             1  \n",
      "                                         aten::to         0.01%       2.000us         0.01%       2.000us       0.061us            33  \n",
      "-------------------------------------------------  ------------  ------------  ------------  ------------  ------------  ------------  \n",
      "Self CPU time total: 31.972ms\n",
      "\n"
     ]
    }
   ],
   "source": [
    "print(prof.key_averages().table(sort_by=\"cpu_time_total\"))"
   ]
  },
  {
   "cell_type": "code",
   "execution_count": null,
   "metadata": {},
   "outputs": [],
   "source": []
  }
 ],
 "metadata": {
  "kernelspec": {
   "display_name": "zoology",
   "language": "python",
   "name": "python3"
  },
  "language_info": {
   "codemirror_mode": {
    "name": "ipython",
    "version": 3
   },
   "file_extension": ".py",
   "mimetype": "text/x-python",
   "name": "python",
   "nbconvert_exporter": "python",
   "pygments_lexer": "ipython3",
   "version": "3.10.13"
  },
  "orig_nbformat": 4
 },
 "nbformat": 4,
 "nbformat_minor": 2
}
